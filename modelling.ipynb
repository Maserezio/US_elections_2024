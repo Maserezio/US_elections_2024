{
 "cells": [
  {
   "cell_type": "code",
   "execution_count": 1,
   "metadata": {},
   "outputs": [],
   "source": [
    "import pandas as pd\n",
    "import numpy as np\n",
    "\n",
    "from warnings import filterwarnings\n",
    "filterwarnings('ignore')\n",
    "\n",
    "\n",
    "\n",
    "import os\n",
    "\n",
    "if os.path.exists('./delegates_preds.csv'):\n",
    "     os.remove('./delegates_preds.csv')\n",
    "if os.path.exists('./error_rates.csv'):\n",
    "     os.remove('./error_rates.csv')    \n",
    "if os.path.exists('./election_preds.csv'):\n",
    "     os.remove('./election_preds.csv')"
   ]
  },
  {
   "cell_type": "markdown",
   "metadata": {},
   "source": [
    "# Data Loading & Split"
   ]
  },
  {
   "cell_type": "code",
   "execution_count": 2,
   "metadata": {},
   "outputs": [
    {
     "data": {
      "text/html": [
       "<div>\n",
       "<style scoped>\n",
       "    .dataframe tbody tr th:only-of-type {\n",
       "        vertical-align: middle;\n",
       "    }\n",
       "\n",
       "    .dataframe tbody tr th {\n",
       "        vertical-align: top;\n",
       "    }\n",
       "\n",
       "    .dataframe thead th {\n",
       "        text-align: right;\n",
       "    }\n",
       "</style>\n",
       "<table border=\"1\" class=\"dataframe\">\n",
       "  <thead>\n",
       "    <tr style=\"text-align: right;\">\n",
       "      <th></th>\n",
       "      <th>state_AZ</th>\n",
       "      <th>state_GA</th>\n",
       "      <th>state_MI</th>\n",
       "      <th>state_NC</th>\n",
       "      <th>state_NV</th>\n",
       "      <th>state_PA</th>\n",
       "      <th>state_WI</th>\n",
       "      <th>3_scale_bias_independent</th>\n",
       "      <th>3_scale_bias_pro-democratic</th>\n",
       "      <th>3_scale_bias_pro-republican</th>\n",
       "      <th>sample_size</th>\n",
       "      <th>moe</th>\n",
       "      <th>respondent_type_LV</th>\n",
       "      <th>respondent_type_RV</th>\n",
       "      <th>spread</th>\n",
       "    </tr>\n",
       "  </thead>\n",
       "  <tbody>\n",
       "    <tr>\n",
       "      <th>0</th>\n",
       "      <td>True</td>\n",
       "      <td>False</td>\n",
       "      <td>False</td>\n",
       "      <td>False</td>\n",
       "      <td>False</td>\n",
       "      <td>False</td>\n",
       "      <td>False</td>\n",
       "      <td>False</td>\n",
       "      <td>True</td>\n",
       "      <td>False</td>\n",
       "      <td>-0.487564</td>\n",
       "      <td>0.156491</td>\n",
       "      <td>True</td>\n",
       "      <td>False</td>\n",
       "      <td>1.477126</td>\n",
       "    </tr>\n",
       "    <tr>\n",
       "      <th>1</th>\n",
       "      <td>True</td>\n",
       "      <td>False</td>\n",
       "      <td>False</td>\n",
       "      <td>False</td>\n",
       "      <td>False</td>\n",
       "      <td>False</td>\n",
       "      <td>False</td>\n",
       "      <td>False</td>\n",
       "      <td>True</td>\n",
       "      <td>False</td>\n",
       "      <td>-0.335343</td>\n",
       "      <td>-0.139645</td>\n",
       "      <td>True</td>\n",
       "      <td>False</td>\n",
       "      <td>1.477126</td>\n",
       "    </tr>\n",
       "    <tr>\n",
       "      <th>2</th>\n",
       "      <td>True</td>\n",
       "      <td>False</td>\n",
       "      <td>False</td>\n",
       "      <td>False</td>\n",
       "      <td>False</td>\n",
       "      <td>False</td>\n",
       "      <td>False</td>\n",
       "      <td>True</td>\n",
       "      <td>False</td>\n",
       "      <td>False</td>\n",
       "      <td>-0.545408</td>\n",
       "      <td>0.008423</td>\n",
       "      <td>True</td>\n",
       "      <td>False</td>\n",
       "      <td>1.194236</td>\n",
       "    </tr>\n",
       "    <tr>\n",
       "      <th>3</th>\n",
       "      <td>True</td>\n",
       "      <td>False</td>\n",
       "      <td>False</td>\n",
       "      <td>False</td>\n",
       "      <td>False</td>\n",
       "      <td>False</td>\n",
       "      <td>False</td>\n",
       "      <td>False</td>\n",
       "      <td>True</td>\n",
       "      <td>False</td>\n",
       "      <td>0.349653</td>\n",
       "      <td>1.044897</td>\n",
       "      <td>True</td>\n",
       "      <td>False</td>\n",
       "      <td>0.628456</td>\n",
       "    </tr>\n",
       "    <tr>\n",
       "      <th>4</th>\n",
       "      <td>False</td>\n",
       "      <td>True</td>\n",
       "      <td>False</td>\n",
       "      <td>False</td>\n",
       "      <td>False</td>\n",
       "      <td>False</td>\n",
       "      <td>False</td>\n",
       "      <td>False</td>\n",
       "      <td>False</td>\n",
       "      <td>True</td>\n",
       "      <td>0.976805</td>\n",
       "      <td>-1.176118</td>\n",
       "      <td>True</td>\n",
       "      <td>False</td>\n",
       "      <td>0.911346</td>\n",
       "    </tr>\n",
       "    <tr>\n",
       "      <th>...</th>\n",
       "      <td>...</td>\n",
       "      <td>...</td>\n",
       "      <td>...</td>\n",
       "      <td>...</td>\n",
       "      <td>...</td>\n",
       "      <td>...</td>\n",
       "      <td>...</td>\n",
       "      <td>...</td>\n",
       "      <td>...</td>\n",
       "      <td>...</td>\n",
       "      <td>...</td>\n",
       "      <td>...</td>\n",
       "      <td>...</td>\n",
       "      <td>...</td>\n",
       "      <td>...</td>\n",
       "    </tr>\n",
       "    <tr>\n",
       "      <th>162</th>\n",
       "      <td>False</td>\n",
       "      <td>False</td>\n",
       "      <td>False</td>\n",
       "      <td>False</td>\n",
       "      <td>False</td>\n",
       "      <td>False</td>\n",
       "      <td>True</td>\n",
       "      <td>False</td>\n",
       "      <td>False</td>\n",
       "      <td>False</td>\n",
       "      <td>-0.213566</td>\n",
       "      <td>-0.287712</td>\n",
       "      <td>True</td>\n",
       "      <td>False</td>\n",
       "      <td>0.062676</td>\n",
       "    </tr>\n",
       "    <tr>\n",
       "      <th>163</th>\n",
       "      <td>False</td>\n",
       "      <td>False</td>\n",
       "      <td>False</td>\n",
       "      <td>False</td>\n",
       "      <td>False</td>\n",
       "      <td>False</td>\n",
       "      <td>True</td>\n",
       "      <td>False</td>\n",
       "      <td>True</td>\n",
       "      <td>False</td>\n",
       "      <td>-0.435809</td>\n",
       "      <td>1.785235</td>\n",
       "      <td>True</td>\n",
       "      <td>False</td>\n",
       "      <td>-1.634664</td>\n",
       "    </tr>\n",
       "    <tr>\n",
       "      <th>164</th>\n",
       "      <td>False</td>\n",
       "      <td>False</td>\n",
       "      <td>False</td>\n",
       "      <td>False</td>\n",
       "      <td>False</td>\n",
       "      <td>False</td>\n",
       "      <td>True</td>\n",
       "      <td>True</td>\n",
       "      <td>False</td>\n",
       "      <td>False</td>\n",
       "      <td>-1.154293</td>\n",
       "      <td>1.192964</td>\n",
       "      <td>True</td>\n",
       "      <td>False</td>\n",
       "      <td>0.345566</td>\n",
       "    </tr>\n",
       "    <tr>\n",
       "      <th>165</th>\n",
       "      <td>False</td>\n",
       "      <td>False</td>\n",
       "      <td>False</td>\n",
       "      <td>False</td>\n",
       "      <td>False</td>\n",
       "      <td>False</td>\n",
       "      <td>True</td>\n",
       "      <td>True</td>\n",
       "      <td>False</td>\n",
       "      <td>False</td>\n",
       "      <td>-0.384054</td>\n",
       "      <td>1.192964</td>\n",
       "      <td>True</td>\n",
       "      <td>False</td>\n",
       "      <td>-0.220214</td>\n",
       "    </tr>\n",
       "    <tr>\n",
       "      <th>166</th>\n",
       "      <td>False</td>\n",
       "      <td>False</td>\n",
       "      <td>False</td>\n",
       "      <td>False</td>\n",
       "      <td>False</td>\n",
       "      <td>False</td>\n",
       "      <td>True</td>\n",
       "      <td>False</td>\n",
       "      <td>True</td>\n",
       "      <td>False</td>\n",
       "      <td>0.696718</td>\n",
       "      <td>-1.028051</td>\n",
       "      <td>True</td>\n",
       "      <td>False</td>\n",
       "      <td>0.062676</td>\n",
       "    </tr>\n",
       "  </tbody>\n",
       "</table>\n",
       "<p>167 rows × 15 columns</p>\n",
       "</div>"
      ],
      "text/plain": [
       "     state_AZ  state_GA  state_MI  state_NC  state_NV  state_PA  state_WI  \\\n",
       "0        True     False     False     False     False     False     False   \n",
       "1        True     False     False     False     False     False     False   \n",
       "2        True     False     False     False     False     False     False   \n",
       "3        True     False     False     False     False     False     False   \n",
       "4       False      True     False     False     False     False     False   \n",
       "..        ...       ...       ...       ...       ...       ...       ...   \n",
       "162     False     False     False     False     False     False      True   \n",
       "163     False     False     False     False     False     False      True   \n",
       "164     False     False     False     False     False     False      True   \n",
       "165     False     False     False     False     False     False      True   \n",
       "166     False     False     False     False     False     False      True   \n",
       "\n",
       "     3_scale_bias_independent  3_scale_bias_pro-democratic  \\\n",
       "0                       False                         True   \n",
       "1                       False                         True   \n",
       "2                        True                        False   \n",
       "3                       False                         True   \n",
       "4                       False                        False   \n",
       "..                        ...                          ...   \n",
       "162                     False                        False   \n",
       "163                     False                         True   \n",
       "164                      True                        False   \n",
       "165                      True                        False   \n",
       "166                     False                         True   \n",
       "\n",
       "     3_scale_bias_pro-republican  sample_size       moe  respondent_type_LV  \\\n",
       "0                          False    -0.487564  0.156491                True   \n",
       "1                          False    -0.335343 -0.139645                True   \n",
       "2                          False    -0.545408  0.008423                True   \n",
       "3                          False     0.349653  1.044897                True   \n",
       "4                           True     0.976805 -1.176118                True   \n",
       "..                           ...          ...       ...                 ...   \n",
       "162                        False    -0.213566 -0.287712                True   \n",
       "163                        False    -0.435809  1.785235                True   \n",
       "164                        False    -1.154293  1.192964                True   \n",
       "165                        False    -0.384054  1.192964                True   \n",
       "166                        False     0.696718 -1.028051                True   \n",
       "\n",
       "     respondent_type_RV    spread  \n",
       "0                 False  1.477126  \n",
       "1                 False  1.477126  \n",
       "2                 False  1.194236  \n",
       "3                 False  0.628456  \n",
       "4                 False  0.911346  \n",
       "..                  ...       ...  \n",
       "162               False  0.062676  \n",
       "163               False -1.634664  \n",
       "164               False  0.345566  \n",
       "165               False -0.220214  \n",
       "166               False  0.062676  \n",
       "\n",
       "[167 rows x 15 columns]"
      ]
     },
     "execution_count": 2,
     "metadata": {},
     "output_type": "execute_result"
    }
   ],
   "source": [
    "from sklearn.preprocessing import StandardScaler\n",
    "\n",
    "data_h = pd.read_csv('./2016_2020.csv')\n",
    "data_24 = pd.read_csv('./2024.csv')\n",
    "\n",
    "common_df = pd.concat([data_h, data_24], axis=0, ignore_index=True)\n",
    "common_df['delta'] = common_df['real_spread'] - common_df['spread']\n",
    "common_df = pd.get_dummies(common_df, columns=['respondent_type', '3_scale_bias', '5_scale_bias', 'state'])\n",
    "                                   \n",
    "scaler = StandardScaler()\n",
    "\n",
    "common_df[['sample_size', 'moe',\n",
    "          'day_start', 'day_end',\n",
    "          'spread']] = scaler.fit_transform(common_df[['sample_size', 'moe', 'day_start', 'day_end', 'spread']])\n",
    "\n",
    "\n",
    "common_df[[\n",
    "     'state_AZ', 'state_GA', 'state_MI', 'state_NC', 'state_NV', 'state_PA', 'state_WI',\n",
    "     '3_scale_bias_independent', '3_scale_bias_pro-democratic', '3_scale_bias_pro-republican',\n",
    "     'sample_size', 'moe', \n",
    "     'respondent_type_LV', 'respondent_type_RV',\n",
    "     'spread',\n",
    "     # 'day_start', 'day_end'\n",
    "]]"
   ]
  },
  {
   "cell_type": "code",
   "execution_count": 3,
   "metadata": {},
   "outputs": [],
   "source": [
    "from sklearn.model_selection import train_test_split\n",
    "\n",
    "\n",
    "X_train, X_val, y_train, y_val = train_test_split(common_df[common_df['year'] != 2024][[\n",
    "     'state_AZ', 'state_GA', 'state_MI', 'state_NC', 'state_NV', 'state_PA', 'state_WI',\n",
    "     '3_scale_bias_independent', '3_scale_bias_pro-democratic', '3_scale_bias_pro-republican',\n",
    "     'sample_size', 'moe', \n",
    "     'respondent_type_LV', 'respondent_type_RV',\n",
    "     'spread', \n",
    "     'day_start', 'day_end'\n",
    "]], common_df[common_df['year'] != 2024]['delta'], test_size=0.2, random_state=2024)\n",
    "\n",
    "X_test = common_df[common_df['year'] == 2024][[\n",
    "     'state_AZ', 'state_GA', 'state_MI', 'state_NC', 'state_NV', 'state_PA', 'state_WI',\n",
    "     '3_scale_bias_independent', '3_scale_bias_pro-democratic', '3_scale_bias_pro-republican',\n",
    "     'sample_size', 'moe', \n",
    "     'respondent_type_LV', 'respondent_type_RV',\n",
    "     'spread', \n",
    "     'day_start', 'day_end'\n",
    "]]"
   ]
  },
  {
   "cell_type": "markdown",
   "metadata": {},
   "source": [
    "# Linear models"
   ]
  },
  {
   "cell_type": "code",
   "execution_count": 4,
   "metadata": {},
   "outputs": [
    {
     "name": "stdout",
     "output_type": "stream",
     "text": [
      "╒══════════════════╤═══════╤═══════╤════════╕\n",
      "│ Model            │ MAE   │ MSE   │ RMSE   │\n",
      "╞══════════════════╪═══════╪═══════╪════════╡\n",
      "│ LinearRegression │ 1.037 │ 1.688 │ 1.299  │\n",
      "├──────────────────┼───────┼───────┼────────┤\n",
      "│ Lasso            │ 1.233 │ 2.413 │ 1.553  │\n",
      "├──────────────────┼───────┼───────┼────────┤\n",
      "│ Ridge            │ 1.037 │ 1.678 │ 1.295  │\n",
      "╘══════════════════╧═══════╧═══════╧════════╛\n"
     ]
    }
   ],
   "source": [
    "from sklearn.linear_model import LinearRegression\n",
    "from sklearn.linear_model import Lasso\n",
    "from sklearn.linear_model import Ridge\n",
    "\n",
    "from sklearn.metrics import mean_absolute_error\n",
    "import numpy as np\n",
    "from tabulate import tabulate\n",
    "\n",
    "def train_and_evaluate_model(model, X_train, y_train, X_val, y_val):\n",
    "    \"\"\"Trains a model and evaluates its performance on the validation set.\"\"\"\n",
    "    \n",
    "    model.fit(X_train, y_train)\n",
    "    y_pred = model.predict(X_val)\n",
    "\n",
    "    mae = mean_absolute_error(y_val, y_pred)\n",
    "    mse = np.mean((y_val - y_pred) ** 2)\n",
    "    rmse = np.sqrt(mse)\n",
    "\n",
    "    # append to csv file\n",
    "    return model.__class__.__name__, round(mae, 3), round(mse, 3), round(rmse, 3)\n",
    "\n",
    "\n",
    "lr_model = LinearRegression()\n",
    "lasso_model = Lasso(alpha=0.1, max_iter=100000, selection='random', tol=0.01)\n",
    "ridge_model = Ridge(alpha=1, max_iter=1000, solver='sparse_cg', tol=0.0001)\n",
    "\n",
    "res_table = []\n",
    "for model in [lr_model, lasso_model, ridge_model]:\n",
    "    model_name, mae, mse, rmse = train_and_evaluate_model(model, X_train, y_train, X_val, y_val)\n",
    "    res_table.append([model_name, mae, mse, rmse])\n",
    "   \n",
    "pd.DataFrame(res_table, columns=['Model', 'MAE', 'MSE', 'RMSE']).to_csv('error_rates.csv', index=False, mode='a')\n",
    "\n",
    "print(tabulate(res_table, headers=['Model', 'MAE', 'MSE', 'RMSE'], tablefmt='fancy_grid', numalign='left'))"
   ]
  },
  {
   "cell_type": "code",
   "execution_count": 5,
   "metadata": {},
   "outputs": [
    {
     "name": "stdout",
     "output_type": "stream",
     "text": [
      "╒════╤═════════╤═════════════╤══════════════════╤════════╤══════════╤══════════════════╕\n",
      "│    │ State   │ Delegates   │ Model            │ Mean   │ Median   │ CI               │\n",
      "╞════╪═════════╪═════════════╪══════════════════╪════════╪══════════╪══════════════════╡\n",
      "│ 0  │ AZ      │ 11          │ LinearRegression │ 0.894  │ 0.714    │ (0.738, 1.054)   │\n",
      "├────┼─────────┼─────────────┼──────────────────┼────────┼──────────┼──────────────────┤\n",
      "│ 1  │ NV      │ 6           │ LinearRegression │ -2.831 │ -3.11    │ (-2.981, -2.673) │\n",
      "├────┼─────────┼─────────────┼──────────────────┼────────┼──────────┼──────────────────┤\n",
      "│ 2  │ WI      │ 10          │ LinearRegression │ 1.032  │ 0.984    │ (0.923, 1.141)   │\n",
      "├────┼─────────┼─────────────┼──────────────────┼────────┼──────────┼──────────────────┤\n",
      "│ 3  │ MI      │ 15          │ LinearRegression │ -0.531 │ -0.643   │ (-0.689, -0.373) │\n",
      "├────┼─────────┼─────────────┼──────────────────┼────────┼──────────┼──────────────────┤\n",
      "│ 4  │ PA      │ 19          │ LinearRegression │ 0.548  │ 0.451    │ (0.381, 0.721)   │\n",
      "├────┼─────────┼─────────────┼──────────────────┼────────┼──────────┼──────────────────┤\n",
      "│ 5  │ NC      │ 16          │ LinearRegression │ 2.288  │ 2.244    │ (2.162, 2.414)   │\n",
      "├────┼─────────┼─────────────┼──────────────────┼────────┼──────────┼──────────────────┤\n",
      "│ 6  │ GA      │ 16          │ LinearRegression │ 2.363  │ 2.173    │ (2.216, 2.512)   │\n",
      "╘════╧═════════╧═════════════╧══════════════════╧════════╧══════════╧══════════════════╛\n"
     ]
    }
   ],
   "source": [
    "import numpy as np\n",
    "import pandas as pd\n",
    "from tabulate import tabulate\n",
    "\n",
    "def predict_swing_states(model):\n",
    "    data_24_copy = pd.read_csv('./2024.csv')\n",
    "\n",
    "    model_name = model.__class__.__name__\n",
    "    data_24_copy['dt_preds'] = model.predict(X_test) + data_24_copy['spread']\n",
    "\n",
    "    delegates = {\n",
    "        'AZ': 11,\n",
    "        'NV': 6,\n",
    "        'WI': 10,\n",
    "        'MI': 15,\n",
    "        'PA': 19,\n",
    "        'NC': 16,\n",
    "        'GA': 16\n",
    "    }\n",
    "\n",
    "    delegates = pd.DataFrame.from_dict(delegates, orient='index', columns=['Delegates'])\n",
    "    delegates.index.name = 'State'\n",
    "    delegates.reset_index(inplace=True)\n",
    "\n",
    "    # Define the bootstrap function\n",
    "    def bootstrap(data, n=1000):\n",
    "        means = []\n",
    "        medians = []\n",
    "        for _ in range(n):\n",
    "            sample = np.random.choice(data, 100, replace=True)\n",
    "            means.append(sample.mean())\n",
    "            medians.append(np.median(sample))\n",
    "        return np.mean(means),  np.median(medians), np.percentile(means, 5), np.percentile(means, 95)\n",
    "\n",
    "    # Initialize lists to store results\n",
    "    means = []\n",
    "    medians = []\n",
    "    ci = []\n",
    "\n",
    "    # Perform bootstrap sampling for each state\n",
    "    for state in delegates['State']:\n",
    "        mean, median, lower, upper = bootstrap(data_24_copy[data_24_copy['state'] == state]['dt_preds'])\n",
    "\n",
    "        means.append(round(mean, 3))\n",
    "        medians.append(round(median, 3))\n",
    "\n",
    "        ci.append(f'({round(lower, 3)}, {round(upper, 3)})')\n",
    "\n",
    "    # Create a new DataFrame for results\n",
    "    results = pd.DataFrame({\n",
    "        'State': delegates['State'],\n",
    "        'Model': [model_name] * len(delegates),\n",
    "        'Mean': means,\n",
    "        'Median': medians,\n",
    "        'CI': ci\n",
    "    })\n",
    "\n",
    "    return results\n",
    "\n",
    "# Initialize the DataFrame for predictions\n",
    "delegates_preds = pd.DataFrame(columns=['State', 'Model', 'Mean', 'Median', 'CI'])\n",
    "delegates_num_map = {\n",
    "    'AZ': 11,\n",
    "    'NV': 6,\n",
    "    'WI': 10,\n",
    "    'MI': 15,\n",
    "    'PA': 19,\n",
    "    'NC': 16,\n",
    "    'GA': 16\n",
    "}\n",
    "# Predict and append results\n",
    "for model in [lr_model, lasso_model, ridge_model]:\n",
    "    results = predict_swing_states(model)\n",
    "    delegates_preds = pd.concat([delegates_preds, results], ignore_index=True)\n",
    "\n",
    "delegates_preds['Delegates'] = delegates_preds['State'].map(delegates_num_map)\n",
    "\n",
    "delegates_preds = delegates_preds[['State', 'Delegates', 'Model', 'Mean', 'Median', 'CI']]\n",
    "delegates_preds.to_csv('delegates_preds.csv', index=False, mode='a')\n",
    "\n",
    "print(tabulate(delegates_preds[delegates_preds['Model'] == 'LinearRegression'], headers='keys', tablefmt='fancy_grid', numalign='left'))"
   ]
  },
  {
   "cell_type": "code",
   "execution_count": 6,
   "metadata": {},
   "outputs": [
    {
     "name": "stdout",
     "output_type": "stream",
     "text": [
      "╒════╤═════════╤═════════════╤═════════╤════════╤══════════╤══════════════════╕\n",
      "│    │ State   │ Delegates   │ Model   │ Mean   │ Median   │ CI               │\n",
      "╞════╪═════════╪═════════════╪═════════╪════════╪══════════╪══════════════════╡\n",
      "│ 7  │ AZ      │ 11          │ Lasso   │ 1.446  │ 1.216    │ (1.301, 1.596)   │\n",
      "├────┼─────────┼─────────────┼─────────┼────────┼──────────┼──────────────────┤\n",
      "│ 8  │ NV      │ 6           │ Lasso   │ -1.574 │ -1.857   │ (-1.711, -1.426) │\n",
      "├────┼─────────┼─────────────┼─────────┼────────┼──────────┼──────────────────┤\n",
      "│ 9  │ WI      │ 10          │ Lasso   │ 0.746  │ 0.854    │ (0.644, 0.845)   │\n",
      "├────┼─────────┼─────────────┼─────────┼────────┼──────────┼──────────────────┤\n",
      "│ 10 │ MI      │ 15          │ Lasso   │ 0.459  │ 0.407    │ (0.306, 0.597)   │\n",
      "├────┼─────────┼─────────────┼─────────┼────────┼──────────┼──────────────────┤\n",
      "│ 11 │ PA      │ 19          │ Lasso   │ 0.986  │ 0.875    │ (0.844, 1.136)   │\n",
      "├────┼─────────┼─────────────┼─────────┼────────┼──────────┼──────────────────┤\n",
      "│ 12 │ NC      │ 16          │ Lasso   │ 1.779  │ 1.683    │ (1.661, 1.898)   │\n",
      "├────┼─────────┼─────────────┼─────────┼────────┼──────────┼──────────────────┤\n",
      "│ 13 │ GA      │ 16          │ Lasso   │ 1.528  │ 1.22     │ (1.4, 1.661)     │\n",
      "╘════╧═════════╧═════════════╧═════════╧════════╧══════════╧══════════════════╛\n"
     ]
    }
   ],
   "source": [
    "print(tabulate(delegates_preds[delegates_preds['Model'] == 'Lasso'], headers='keys', tablefmt='fancy_grid', numalign='left'))"
   ]
  },
  {
   "cell_type": "code",
   "execution_count": 7,
   "metadata": {},
   "outputs": [
    {
     "name": "stdout",
     "output_type": "stream",
     "text": [
      "╒════╤═════════╤═════════════╤═════════╤════════╤══════════╤══════════════════╕\n",
      "│    │ State   │ Delegates   │ Model   │ Mean   │ Median   │ CI               │\n",
      "╞════╪═════════╪═════════════╪═════════╪════════╪══════════╪══════════════════╡\n",
      "│ 14 │ AZ      │ 11          │ Ridge   │ 0.912  │ 0.777    │ (0.734, 1.078)   │\n",
      "├────┼─────────┼─────────────┼─────────┼────────┼──────────┼──────────────────┤\n",
      "│ 15 │ NV      │ 6           │ Ridge   │ -2.331 │ -2.47    │ (-2.493, -2.162) │\n",
      "├────┼─────────┼─────────────┼─────────┼────────┼──────────┼──────────────────┤\n",
      "│ 16 │ WI      │ 10          │ Ridge   │ 1.081  │ 0.997    │ (0.975, 1.195)   │\n",
      "├────┼─────────┼─────────────┼─────────┼────────┼──────────┼──────────────────┤\n",
      "│ 17 │ MI      │ 15          │ Ridge   │ -0.397 │ -0.485   │ (-0.55, -0.239)  │\n",
      "├────┼─────────┼─────────────┼─────────┼────────┼──────────┼──────────────────┤\n",
      "│ 18 │ PA      │ 19          │ Ridge   │ 0.567  │ 0.475    │ (0.397, 0.752)   │\n",
      "├────┼─────────┼─────────────┼─────────┼────────┼──────────┼──────────────────┤\n",
      "│ 19 │ NC      │ 16          │ Ridge   │ 2.168  │ 2.127    │ (2.048, 2.297)   │\n",
      "├────┼─────────┼─────────────┼─────────┼────────┼──────────┼──────────────────┤\n",
      "│ 20 │ GA      │ 16          │ Ridge   │ 2.166  │ 1.987    │ (2.014, 2.325)   │\n",
      "╘════╧═════════╧═════════════╧═════════╧════════╧══════════╧══════════════════╛\n"
     ]
    }
   ],
   "source": [
    "print(tabulate(delegates_preds[delegates_preds['Model'] == 'Ridge'], headers='keys', tablefmt='fancy_grid', numalign='left'))"
   ]
  },
  {
   "cell_type": "code",
   "execution_count": 8,
   "metadata": {},
   "outputs": [
    {
     "name": "stdout",
     "output_type": "stream",
     "text": [
      "╒════╤══════════════════╤═══════╤═══════╕\n",
      "│    │ Model            │ REP   │ DEM   │\n",
      "╞════╪══════════════════╪═══════╪═══════╡\n",
      "│ 0  │ LinearRegression │ 291   │ 247   │\n",
      "├────┼──────────────────┼───────┼───────┤\n",
      "│ 1  │ Lasso            │ 306   │ 232   │\n",
      "├────┼──────────────────┼───────┼───────┤\n",
      "│ 2  │ Ridge            │ 291   │ 247   │\n",
      "╘════╧══════════════════╧═══════╧═══════╛\n"
     ]
    }
   ],
   "source": [
    "def predict_election(delegates_data, model):\n",
    "    REP_no_swings = 219\n",
    "    DEM_no_swings = 226\n",
    "\n",
    "    REP_delegates = delegates_data.loc[\n",
    "        (delegates_data['Model'] == model.__class__.__name__) & (delegates_data['Mean'] > 0), 'Delegates'\n",
    "    ].sum() + REP_no_swings\n",
    "\n",
    "    DEM_delegates = delegates_data.loc[\n",
    "        (delegates_data['Model'] == model.__class__.__name__) & (delegates_data['Mean'] < 0), 'Delegates'\n",
    "    ].sum() + DEM_no_swings\n",
    "          \n",
    "    return REP_delegates, DEM_delegates\n",
    "\n",
    "# Add to DataFrame and print with tabulate\n",
    "res = pd.DataFrame(columns=['Model', 'REP', 'DEM'])\n",
    "\n",
    "for model in [lr_model, lasso_model, ridge_model]:\n",
    "    REP_delegates, DEM_delegates = predict_election(delegates_preds, model)\n",
    "    res = pd.concat([res, pd.DataFrame([[model.__class__.__name__, REP_delegates, DEM_delegates]], columns=['Model', 'REP', 'DEM'])], ignore_index=True)\n",
    "\n",
    "res.to_csv('election_preds.csv', index=False, mode='a')\n",
    "\n",
    "print(tabulate(res, headers='keys', tablefmt='fancy_grid', numalign='left'))"
   ]
  },
  {
   "cell_type": "code",
   "execution_count": 9,
   "metadata": {},
   "outputs": [
    {
     "name": "stdout",
     "output_type": "stream",
     "text": [
      "Saved LinearRegression plot to ./images/png/LinearRegression.png\n",
      "Saved Lasso plot to ./images/png/Lasso.png\n",
      "Saved Ridge plot to ./images/png/Ridge.png\n"
     ]
    }
   ],
   "source": [
    "import plotly.express as px\n",
    "import os\n",
    "\n",
    "\n",
    "def plot_election_results(delegates_data, model):\n",
    "     swing_states = ['AZ', 'GA', 'MI', 'NV', 'PA', 'WI']\n",
    "     REP_states = ['FL', 'TX', 'OH', 'IA', 'NC', 'GA', 'AZ']\n",
    "     DEM_states = ['CA', 'NY', 'IL', 'NJ', 'WA', 'MA', 'MD']\n",
    "     \n",
    "     \n",
    "     states_data = pd.DataFrame({\n",
    "          'state': swing_states,\n",
    "          'color': ['blue' if delegates_data[(delegates_data['Model'] == model.__class__.__name__) &\n",
    "                                              (delegates_data['State'] == state)]['Mean'].values[0] < 0 else 'red' for state in swing_states]\n",
    "     })\n",
    "\n",
    "     red_states = pd.DataFrame({\n",
    "          'state' : ['FL', 'TX', 'OH', 'IA', 'IN', 'MO', 'MT', 'NC', 'SC', 'UT', 'WY', 'AL', 'AK', 'AR', 'ID', 'KS', 'KY', 'LA', 'MS', 'NE', 'ND', 'OK', 'SD', 'TN', 'WV'],\n",
    "          'color' : ['red' for _ in range(25)]\n",
    "     })\n",
    "\n",
    "     blue_states = pd.DataFrame({\n",
    "          'state' : ['CA', 'NY', 'IL', 'WA', 'OR', 'MA', 'NJ', 'CT', 'RI', 'DC', 'DE', 'HI', 'MD', 'VT', 'ME', 'NH', 'NM', 'MN', 'CO', 'VA'],\n",
    "          'color' : ['blue' for _ in range(20)]\n",
    "     })\n",
    "                     \n",
    "     states_data = pd.concat([states_data, red_states])\n",
    "     states_data = pd.concat([states_data, blue_states])\n",
    "     \n",
    "     # make title font larger\n",
    "     fig = px.choropleth(\n",
    "          states_data,\n",
    "          locations='state',\n",
    "          locationmode=\"USA-states\",\n",
    "          color='color',\n",
    "          color_discrete_map={\"blue\": \"blue\", \"red\": \"red\"},\n",
    "          scope=\"usa\",\n",
    "          title=f\"\"\"{model.__class__.__name__}. REP Delegates: {res[res['Model'] == model.__class__.__name__]['REP'].values[0]}; DEM Delegates: {res[res['Model'] == model.__class__.__name__]['DEM'].values[0]}\"\"\"\n",
    "     )\n",
    "\n",
    "     fig.update_layout(\n",
    "          title_font_size=32\n",
    "     )\n",
    "     \n",
    "     fig.update_layout(\n",
    "          geo=dict(\n",
    "               lakecolor='rgb(255, 255, 255)',\n",
    "               showlakes=True,\n",
    "               projection_type='albers usa'\n",
    "          )\n",
    "     )\n",
    "\n",
    "     fig.update_layout(showlegend=False)    \n",
    "\n",
    "     return fig\n",
    "     \n",
    "for model in [lr_model, lasso_model, ridge_model]:\n",
    "     fig = plot_election_results(delegates_preds, model)\n",
    "     \n",
    "     os.makedirs('./images/png', exist_ok=True)\n",
    "     fig.write_image(f'./images/png/{model.__class__.__name__}.png', width=1200, height=800)\n",
    "\n",
    "     print(f\"Saved {model.__class__.__name__} plot to ./images/png/{model.__class__.__name__}.png\")"
   ]
  },
  {
   "cell_type": "markdown",
   "metadata": {},
   "source": [
    "# Trees"
   ]
  },
  {
   "cell_type": "code",
   "execution_count": 10,
   "metadata": {},
   "outputs": [
    {
     "name": "stdout",
     "output_type": "stream",
     "text": [
      "╒═══════════════════════╤═══════╤═══════╤════════╕\n",
      "│ Model                 │ MAE   │ MSE   │ RMSE   │\n",
      "╞═══════════════════════╪═══════╪═══════╪════════╡\n",
      "│ DecisionTreeRegressor │ 2.231 │ 8.491 │ 2.914  │\n",
      "├───────────────────────┼───────┼───────┼────────┤\n",
      "│ ExtraTreesRegressor   │ 1.197 │ 2.306 │ 1.519  │\n",
      "├───────────────────────┼───────┼───────┼────────┤\n",
      "│ RandomForestRegressor │ 1.474 │ 3.309 │ 1.819  │\n",
      "╘═══════════════════════╧═══════╧═══════╧════════╛\n"
     ]
    }
   ],
   "source": [
    "from sklearn.tree import DecisionTreeRegressor\n",
    "from sklearn.ensemble import RandomForestRegressor\n",
    "from sklearn.ensemble import ExtraTreesRegressor\n",
    "\n",
    "dt_model = DecisionTreeRegressor()\n",
    "et_model = ExtraTreesRegressor()\n",
    "rf_model = RandomForestRegressor()\n",
    "\n",
    "res_table = []\n",
    "\n",
    "for model in [dt_model, et_model, rf_model]:\n",
    "     model_name, mae, mse, rmse = train_and_evaluate_model(model, X_train, y_train, X_val, y_val)\n",
    "     res_table.append([model_name, mae, mse, rmse])\n",
    "\n",
    "pd.DataFrame(res_table, columns=['Model', 'MAE', 'MSE', 'RMSE']).to_csv('error_rates.csv', index=False, mode='a', header=False)\n",
    "\n",
    "print(tabulate(res_table, headers=['Model', 'MAE', 'MSE', 'RMSE'], tablefmt='fancy_grid', numalign='left'))"
   ]
  },
  {
   "cell_type": "code",
   "execution_count": 11,
   "metadata": {},
   "outputs": [
    {
     "name": "stdout",
     "output_type": "stream",
     "text": [
      "╒════╤═════════╤═════════════╤═══════════════════════╤════════╤══════════╤══════════════════╕\n",
      "│    │ State   │ Delegates   │ Model                 │ Mean   │ Median   │ CI               │\n",
      "╞════╪═════════╪═════════════╪═══════════════════════╪════════╪══════════╪══════════════════╡\n",
      "│ 0  │ AZ      │ 11          │ DecisionTreeRegressor │ 1.658  │ 2.05     │ (1.308, 2.0)     │\n",
      "├────┼─────────┼─────────────┼───────────────────────┼────────┼──────────┼──────────────────┤\n",
      "│ 1  │ NV      │ 6           │ DecisionTreeRegressor │ -2.136 │ -2.4     │ (-2.556, -1.706) │\n",
      "├────┼─────────┼─────────────┼───────────────────────┼────────┼──────────┼──────────────────┤\n",
      "│ 2  │ WI      │ 10          │ DecisionTreeRegressor │ 0.678  │ 1.3      │ (0.445, 0.919)   │\n",
      "├────┼─────────┼─────────────┼───────────────────────┼────────┼──────────┼──────────────────┤\n",
      "│ 3  │ MI      │ 15          │ DecisionTreeRegressor │ -1.491 │ -1.8     │ (-1.787, -1.185) │\n",
      "├────┼─────────┼─────────────┼───────────────────────┼────────┼──────────┼──────────────────┤\n",
      "│ 4  │ PA      │ 19          │ DecisionTreeRegressor │ 0.424  │ 0.7      │ (0.121, 0.69)    │\n",
      "├────┼─────────┼─────────────┼───────────────────────┼────────┼──────────┼──────────────────┤\n",
      "│ 5  │ NC      │ 16          │ DecisionTreeRegressor │ 0.777  │ 1.3      │ (0.439, 1.163)   │\n",
      "├────┼─────────┼─────────────┼───────────────────────┼────────┼──────────┼──────────────────┤\n",
      "│ 6  │ GA      │ 16          │ DecisionTreeRegressor │ 0.503  │ -0.3     │ (0.2, 0.826)     │\n",
      "╘════╧═════════╧═════════════╧═══════════════════════╧════════╧══════════╧══════════════════╛\n"
     ]
    }
   ],
   "source": [
    "delegates_preds = pd.DataFrame(columns=['State', 'Model', 'Mean', 'Median', 'CI'])\n",
    "\n",
    "for model in [dt_model, et_model, rf_model]:\n",
    "    results = predict_swing_states(model)\n",
    "    delegates_preds = pd.concat([delegates_preds, results], ignore_index=True)\n",
    "\n",
    "delegates_preds['Delegates'] = delegates_preds['State'].map(delegates_num_map)\n",
    "\n",
    "delegates_preds = delegates_preds[['State', 'Delegates', 'Model', 'Mean', 'Median', 'CI']]\n",
    "\n",
    "delegates_preds.to_csv('delegates_preds.csv', index=False, mode='a', header=False)\n",
    "\n",
    "print(tabulate(delegates_preds[delegates_preds['Model'] == 'DecisionTreeRegressor'], headers='keys', tablefmt='fancy_grid', numalign='left'))"
   ]
  },
  {
   "cell_type": "code",
   "execution_count": 12,
   "metadata": {},
   "outputs": [
    {
     "name": "stdout",
     "output_type": "stream",
     "text": [
      "╒════╤═════════╤═════════════╤═════════════════════╤════════╤══════════╤══════════════════╕\n",
      "│    │ State   │ Delegates   │ Model               │ Mean   │ Median   │ CI               │\n",
      "╞════╪═════════╪═════════════╪═════════════════════╪════════╪══════════╪══════════════════╡\n",
      "│ 7  │ AZ      │ 11          │ ExtraTreesRegressor │ 1.061  │ 0.09     │ (0.723, 1.396)   │\n",
      "├────┼─────────┼─────────────┼─────────────────────┼────────┼──────────┼──────────────────┤\n",
      "│ 8  │ NV      │ 6           │ ExtraTreesRegressor │ -1.62  │ -1.615   │ (-1.698, -1.537) │\n",
      "├────┼─────────┼─────────────┼─────────────────────┼────────┼──────────┼──────────────────┤\n",
      "│ 9  │ WI      │ 10          │ ExtraTreesRegressor │ 1.037  │ 0.983    │ (0.937, 1.137)   │\n",
      "├────┼─────────┼─────────────┼─────────────────────┼────────┼──────────┼──────────────────┤\n",
      "│ 10 │ MI      │ 15          │ ExtraTreesRegressor │ -0.275 │ -0.122   │ (-0.407, -0.138) │\n",
      "├────┼─────────┼─────────────┼─────────────────────┼────────┼──────────┼──────────────────┤\n",
      "│ 11 │ PA      │ 19          │ ExtraTreesRegressor │ 0.395  │ 0.229    │ (0.28, 0.514)    │\n",
      "├────┼─────────┼─────────────┼─────────────────────┼────────┼──────────┼──────────────────┤\n",
      "│ 12 │ NC      │ 16          │ ExtraTreesRegressor │ 1.838  │ 1.708    │ (1.764, 1.908)   │\n",
      "├────┼─────────┼─────────────┼─────────────────────┼────────┼──────────┼──────────────────┤\n",
      "│ 13 │ GA      │ 16          │ ExtraTreesRegressor │ 1.309  │ 0.819    │ (1.112, 1.522)   │\n",
      "╘════╧═════════╧═════════════╧═════════════════════╧════════╧══════════╧══════════════════╛\n"
     ]
    }
   ],
   "source": [
    "print(tabulate(delegates_preds[delegates_preds['Model'] == 'ExtraTreesRegressor'], headers='keys', tablefmt='fancy_grid', numalign='left'))"
   ]
  },
  {
   "cell_type": "code",
   "execution_count": 13,
   "metadata": {},
   "outputs": [
    {
     "name": "stdout",
     "output_type": "stream",
     "text": [
      "╒════╤═════════╤═════════════╤═══════════════════════╤════════╤══════════╤══════════════════╕\n",
      "│    │ State   │ Delegates   │ Model                 │ Mean   │ Median   │ CI               │\n",
      "╞════╪═════════╪═════════════╪═══════════════════════╪════════╪══════════╪══════════════════╡\n",
      "│ 14 │ AZ      │ 11          │ RandomForestRegressor │ 0.872  │ 0.4      │ (0.642, 1.122)   │\n",
      "├────┼─────────┼─────────────┼───────────────────────┼────────┼──────────┼──────────────────┤\n",
      "│ 15 │ NV      │ 6           │ RandomForestRegressor │ -0.837 │ -1.108   │ (-0.952, -0.726) │\n",
      "├────┼─────────┼─────────────┼───────────────────────┼────────┼──────────┼──────────────────┤\n",
      "│ 16 │ WI      │ 10          │ RandomForestRegressor │ 0.186  │ 0.229    │ (0.103, 0.267)   │\n",
      "├────┼─────────┼─────────────┼───────────────────────┼────────┼──────────┼──────────────────┤\n",
      "│ 17 │ MI      │ 15          │ RandomForestRegressor │ 0.022  │ 0.12     │ (-0.038, 0.083)  │\n",
      "├────┼─────────┼─────────────┼───────────────────────┼────────┼──────────┼──────────────────┤\n",
      "│ 18 │ PA      │ 19          │ RandomForestRegressor │ 0.141  │ 0.201    │ (0.073, 0.209)   │\n",
      "├────┼─────────┼─────────────┼───────────────────────┼────────┼──────────┼──────────────────┤\n",
      "│ 19 │ NC      │ 16          │ RandomForestRegressor │ 0.868  │ 0.806    │ (0.792, 0.951)   │\n",
      "├────┼─────────┼─────────────┼───────────────────────┼────────┼──────────┼──────────────────┤\n",
      "│ 20 │ GA      │ 16          │ RandomForestRegressor │ 1.113  │ 0.717    │ (0.96, 1.277)    │\n",
      "╘════╧═════════╧═════════════╧═══════════════════════╧════════╧══════════╧══════════════════╛\n"
     ]
    }
   ],
   "source": [
    "print(tabulate(delegates_preds[delegates_preds['Model'] == 'RandomForestRegressor'], headers='keys', tablefmt='fancy_grid', numalign='left'))"
   ]
  },
  {
   "cell_type": "code",
   "execution_count": 14,
   "metadata": {},
   "outputs": [
    {
     "name": "stdout",
     "output_type": "stream",
     "text": [
      "╒════╤═══════════════════════╤═══════╤═══════╕\n",
      "│    │ Model                 │ REP   │ DEM   │\n",
      "╞════╪═══════════════════════╪═══════╪═══════╡\n",
      "│ 0  │ DecisionTreeRegressor │ 291   │ 247   │\n",
      "├────┼───────────────────────┼───────┼───────┤\n",
      "│ 1  │ ExtraTreesRegressor   │ 291   │ 247   │\n",
      "├────┼───────────────────────┼───────┼───────┤\n",
      "│ 2  │ RandomForestRegressor │ 306   │ 232   │\n",
      "╘════╧═══════════════════════╧═══════╧═══════╛\n"
     ]
    }
   ],
   "source": [
    "res = pd.DataFrame(columns=['Model', 'REP', 'DEM'])\n",
    "\n",
    "for model in [dt_model, et_model, rf_model]:\n",
    "     REP_delegates, DEM_delegates = predict_election(delegates_preds, model)\n",
    "     res = pd.concat([res, pd.DataFrame([[model.__class__.__name__, REP_delegates, DEM_delegates]], columns=['Model', 'REP', 'DEM'])], ignore_index=True)\n",
    "\n",
    "res.to_csv('election_preds.csv', index=False, mode='a', header=False)\n",
    "\n",
    "print(tabulate(res, headers='keys', tablefmt='fancy_grid', numalign='left'))"
   ]
  },
  {
   "cell_type": "code",
   "execution_count": 15,
   "metadata": {},
   "outputs": [
    {
     "name": "stdout",
     "output_type": "stream",
     "text": [
      "Saved DecisionTreeRegressor plot to ./images/png/DecisionTreeRegressor.png\n",
      "Saved ExtraTreesRegressor plot to ./images/png/ExtraTreesRegressor.png\n",
      "Saved RandomForestRegressor plot to ./images/png/RandomForestRegressor.png\n"
     ]
    }
   ],
   "source": [
    "for model in [dt_model, et_model, rf_model]:\n",
    "     fig = plot_election_results(delegates_preds, model)\n",
    "\n",
    "     os.makedirs('./images/png', exist_ok=True)\n",
    "     fig.write_image(f'./images/png/{model.__class__.__name__}.png', width=1200, height=800)\n",
    "\n",
    "     print(f\"Saved {model.__class__.__name__} plot to ./images/png/{model.__class__.__name__}.png\")"
   ]
  },
  {
   "cell_type": "markdown",
   "metadata": {},
   "source": [
    "# MLP"
   ]
  },
  {
   "cell_type": "code",
   "execution_count": 16,
   "metadata": {},
   "outputs": [
    {
     "name": "stdout",
     "output_type": "stream",
     "text": [
      "╒══════════════╤═══════╤═══════╤════════╕\n",
      "│ Model        │ MAE   │ MSE   │ RMSE   │\n",
      "╞══════════════╪═══════╪═══════╪════════╡\n",
      "│ MLPRegressor │ 1.501 │ 3.175 │ 1.782  │\n",
      "╘══════════════╧═══════╧═══════╧════════╛\n"
     ]
    }
   ],
   "source": [
    "# mlp model\n",
    "\n",
    "from sklearn.neural_network import MLPRegressor\n",
    "\n",
    "mlp_model = MLPRegressor(hidden_layer_sizes=(16, 12), max_iter=1000, random_state=24)\n",
    "\n",
    "model_name, mae, mse, rmse = train_and_evaluate_model(mlp_model, X_train, y_train, X_val, y_val)\n",
    "\n",
    "\n",
    "pd.DataFrame([[model_name, mae, mse, rmse]], columns=['Model', 'MAE', 'MSE', 'RMSE']).to_csv('error_rates.csv', index=False, mode='a', header=False)\n",
    "\n",
    "print(tabulate([[model_name, mae, mse, rmse]], headers=['Model', 'MAE', 'MSE', 'RMSE'], tablefmt='fancy_grid', numalign='left'))"
   ]
  },
  {
   "cell_type": "code",
   "execution_count": 17,
   "metadata": {},
   "outputs": [
    {
     "name": "stdout",
     "output_type": "stream",
     "text": [
      "╒════╤═════════╤═════════════╤══════════════╤════════╤══════════╤══════════════════╕\n",
      "│    │ State   │ Delegates   │ Model        │ Mean   │ Median   │ CI               │\n",
      "╞════╪═════════╪═════════════╪══════════════╪════════╪══════════╪══════════════════╡\n",
      "│ 0  │ AZ      │ 11          │ MLPRegressor │ 1.08   │ 0.084    │ (0.753, 1.419)   │\n",
      "├────┼─────────┼─────────────┼──────────────┼────────┼──────────┼──────────────────┤\n",
      "│ 1  │ NV      │ 6           │ MLPRegressor │ -2.825 │ -2.418   │ (-3.123, -2.523) │\n",
      "├────┼─────────┼─────────────┼──────────────┼────────┼──────────┼──────────────────┤\n",
      "│ 2  │ WI      │ 10          │ MLPRegressor │ 1.002  │ 0.665    │ (0.787, 1.211)   │\n",
      "├────┼─────────┼─────────────┼──────────────┼────────┼──────────┼──────────────────┤\n",
      "│ 3  │ MI      │ 15          │ MLPRegressor │ -0.999 │ -1.236   │ (-1.259, -0.728) │\n",
      "├────┼─────────┼─────────────┼──────────────┼────────┼──────────┼──────────────────┤\n",
      "│ 4  │ PA      │ 19          │ MLPRegressor │ -0.306 │ -0.324   │ (-0.551, -0.044) │\n",
      "├────┼─────────┼─────────────┼──────────────┼────────┼──────────┼──────────────────┤\n",
      "│ 5  │ NC      │ 16          │ MLPRegressor │ 2.019  │ 1.766    │ (1.748, 2.287)   │\n",
      "├────┼─────────┼─────────────┼──────────────┼────────┼──────────┼──────────────────┤\n",
      "│ 6  │ GA      │ 16          │ MLPRegressor │ 2.086  │ 1.048    │ (1.668, 2.525)   │\n",
      "╘════╧═════════╧═════════════╧══════════════╧════════╧══════════╧══════════════════╛\n"
     ]
    }
   ],
   "source": [
    "delegates_preds = pd.DataFrame(columns=['State', 'Model', 'Mean', 'Median', 'CI'])\n",
    "\n",
    "results = predict_swing_states(mlp_model)\n",
    "\n",
    "delegates_preds = pd.concat([delegates_preds, results], ignore_index=True)\n",
    "\n",
    "delegates_preds['Delegates'] = delegates_preds['State'].map(delegates_num_map)\n",
    "\n",
    "delegates_preds = delegates_preds[['State', 'Delegates', 'Model', 'Mean', 'Median', 'CI']]\n",
    "\n",
    "delegates_preds.to_csv('delegates_preds.csv', index=False, mode='a', header=False)\n",
    "\n",
    "print(tabulate(delegates_preds[delegates_preds['Model'] == 'MLPRegressor'], headers='keys', tablefmt='fancy_grid', numalign='left'))"
   ]
  },
  {
   "cell_type": "code",
   "execution_count": 18,
   "metadata": {},
   "outputs": [
    {
     "name": "stdout",
     "output_type": "stream",
     "text": [
      "╒════╤══════════════╤═══════╤═══════╕\n",
      "│    │ Model        │ REP   │ DEM   │\n",
      "╞════╪══════════════╪═══════╪═══════╡\n",
      "│ 0  │ MLPRegressor │ 272   │ 266   │\n",
      "╘════╧══════════════╧═══════╧═══════╛\n"
     ]
    }
   ],
   "source": [
    "res = pd.DataFrame(columns=['Model', 'REP', 'DEM'])\n",
    "\n",
    "REP_delegates, DEM_delegates = predict_election(delegates_preds, mlp_model)\n",
    "\n",
    "res = pd.concat([res, pd.DataFrame([['MLPRegressor', REP_delegates, DEM_delegates]], columns=['Model', 'REP', 'DEM'])], ignore_index=True)\n",
    "\n",
    "res.to_csv('election_preds.csv', index=False, mode='a', header=False)\n",
    "\n",
    "print(tabulate(res, headers='keys', tablefmt='fancy_grid', numalign='left'))"
   ]
  },
  {
   "cell_type": "code",
   "execution_count": 19,
   "metadata": {},
   "outputs": [
    {
     "name": "stdout",
     "output_type": "stream",
     "text": [
      "Saved MLPRegressor plot to ./images/png/MLPRegressor.png\n"
     ]
    }
   ],
   "source": [
    "fig = plot_election_results(delegates_preds, mlp_model)\n",
    "\n",
    "os.makedirs('./images/png', exist_ok=True)\n",
    "\n",
    "fig.write_image(f'./images/png/MLPRegressor.png', width=1200, height=800)\n",
    "\n",
    "print(f\"Saved MLPRegressor plot to ./images/png/MLPRegressor.png\")"
   ]
  },
  {
   "cell_type": "markdown",
   "metadata": {},
   "source": [
    "# Boosting"
   ]
  },
  {
   "cell_type": "code",
   "execution_count": 20,
   "metadata": {},
   "outputs": [
    {
     "name": "stdout",
     "output_type": "stream",
     "text": [
      "╒═══════════════════════════╤═══════╤═══════╤════════╕\n",
      "│ Model                     │ MAE   │ MSE   │ RMSE   │\n",
      "╞═══════════════════════════╪═══════╪═══════╪════════╡\n",
      "│ XGBRegressor              │ 1.481 │ 3.517 │ 1.875  │\n",
      "├───────────────────────────┼───────┼───────┼────────┤\n",
      "│ AdaBoostRegressor         │ 1.592 │ 3.524 │ 1.877  │\n",
      "├───────────────────────────┼───────┼───────┼────────┤\n",
      "│ GradientBoostingRegressor │ 1.524 │ 3.263 │ 1.806  │\n",
      "╘═══════════════════════════╧═══════╧═══════╧════════╛\n"
     ]
    }
   ],
   "source": [
    "from xgboost import XGBRegressor\n",
    "from sklearn.ensemble import AdaBoostRegressor\n",
    "from sklearn.ensemble import GradientBoostingRegressor\n",
    "\n",
    "xgb_model = XGBRegressor()\n",
    "ada_model = AdaBoostRegressor()\n",
    "gb_model = GradientBoostingRegressor()\n",
    "\n",
    "res_table = []\n",
    "\n",
    "for model in [xgb_model, ada_model, gb_model]:\n",
    "     model_name, mae, mse, rmse = train_and_evaluate_model(model, X_train, y_train, X_val, y_val)\n",
    "     res_table.append([model_name, mae, mse, rmse])\n",
    "\n",
    "pd.DataFrame(res_table, columns=['Model', 'MAE', 'MSE', 'RMSE']).to_csv('error_rates.csv', index=False, mode='a', header=False)\n",
    "\n",
    "print(tabulate(res_table, headers=['Model', 'MAE', 'MSE', 'RMSE'], tablefmt='fancy_grid', numalign='left'))"
   ]
  },
  {
   "cell_type": "code",
   "execution_count": 21,
   "metadata": {},
   "outputs": [
    {
     "name": "stdout",
     "output_type": "stream",
     "text": [
      "╒════╤═════════╤═════════════╤══════════════╤════════╤══════════╤══════════════════╕\n",
      "│    │ State   │ Delegates   │ Model        │ Mean   │ Median   │ CI               │\n",
      "╞════╪═════════╪═════════════╪══════════════╪════════╪══════════╪══════════════════╡\n",
      "│ 0  │ AZ      │ 11          │ XGBRegressor │ 0.757  │ 0.492    │ (0.501, 1.023)   │\n",
      "├────┼─────────┼─────────────┼──────────────┼────────┼──────────┼──────────────────┤\n",
      "│ 1  │ NV      │ 6           │ XGBRegressor │ -1.172 │ -1.931   │ (-1.416, -0.909) │\n",
      "├────┼─────────┼─────────────┼──────────────┼────────┼──────────┼──────────────────┤\n",
      "│ 2  │ WI      │ 10          │ XGBRegressor │ 0.151  │ 0.115    │ (0.019, 0.291)   │\n",
      "├────┼─────────┼─────────────┼──────────────┼────────┼──────────┼──────────────────┤\n",
      "│ 3  │ MI      │ 15          │ XGBRegressor │ -0.52  │ -0.587   │ (-0.63, -0.403)  │\n",
      "├────┼─────────┼─────────────┼──────────────┼────────┼──────────┼──────────────────┤\n",
      "│ 4  │ PA      │ 19          │ XGBRegressor │ 0.268  │ 0.282    │ (0.155, 0.384)   │\n",
      "├────┼─────────┼─────────────┼──────────────┼────────┼──────────┼──────────────────┤\n",
      "│ 5  │ NC      │ 16          │ XGBRegressor │ 1.195  │ 1.454    │ (1.054, 1.339)   │\n",
      "├────┼─────────┼─────────────┼──────────────┼────────┼──────────┼──────────────────┤\n",
      "│ 6  │ GA      │ 16          │ XGBRegressor │ 1.718  │ 1.67     │ (1.532, 1.91)    │\n",
      "╘════╧═════════╧═════════════╧══════════════╧════════╧══════════╧══════════════════╛\n"
     ]
    }
   ],
   "source": [
    "delegates_preds = pd.DataFrame(columns=['State', 'Model', 'Mean', 'Median', 'CI'])\n",
    "\n",
    "for model in [xgb_model, ada_model, gb_model]:\n",
    "     results = predict_swing_states(model)\n",
    "     delegates_preds = pd.concat([delegates_preds, results], ignore_index=True)\n",
    "\n",
    "delegates_preds['Delegates'] = delegates_preds['State'].map(delegates_num_map)\n",
    "\n",
    "delegates_preds = delegates_preds[['State', 'Delegates', 'Model', 'Mean', 'Median', 'CI']]\n",
    "\n",
    "delegates_preds.to_csv('delegates_preds.csv', index=False, mode='a', header=False)\n",
    "\n",
    "print(tabulate(delegates_preds[delegates_preds['Model'] == 'XGBRegressor'], headers='keys', tablefmt='fancy_grid', numalign='left'))"
   ]
  },
  {
   "cell_type": "code",
   "execution_count": 22,
   "metadata": {},
   "outputs": [
    {
     "name": "stdout",
     "output_type": "stream",
     "text": [
      "╒════╤═════════╤═════════════╤═══════════════════╤════════╤══════════╤══════════════════╕\n",
      "│    │ State   │ Delegates   │ Model             │ Mean   │ Median   │ CI               │\n",
      "╞════╪═════════╪═════════════╪═══════════════════╪════════╪══════════╪══════════════════╡\n",
      "│ 7  │ AZ      │ 11          │ AdaBoostRegressor │ 1.169  │ 0.664    │ (0.959, 1.397)   │\n",
      "├────┼─────────┼─────────────┼───────────────────┼────────┼──────────┼──────────────────┤\n",
      "│ 8  │ NV      │ 6           │ AdaBoostRegressor │ -0.315 │ -0.733   │ (-0.466, -0.169) │\n",
      "├────┼─────────┼─────────────┼───────────────────┼────────┼──────────┼──────────────────┤\n",
      "│ 9  │ WI      │ 10          │ AdaBoostRegressor │ 0.328  │ 0.3      │ (0.219, 0.434)   │\n",
      "├────┼─────────┼─────────────┼───────────────────┼────────┼──────────┼──────────────────┤\n",
      "│ 10 │ MI      │ 15          │ AdaBoostRegressor │ 0.184  │ 0.257    │ (0.061, 0.311)   │\n",
      "├────┼─────────┼─────────────┼───────────────────┼────────┼──────────┼──────────────────┤\n",
      "│ 11 │ PA      │ 19          │ AdaBoostRegressor │ 0.214  │ 0.18     │ (0.114, 0.318)   │\n",
      "├────┼─────────┼─────────────┼───────────────────┼────────┼──────────┼──────────────────┤\n",
      "│ 12 │ NC      │ 16          │ AdaBoostRegressor │ 0.86   │ 0.755    │ (0.778, 0.934)   │\n",
      "├────┼─────────┼─────────────┼───────────────────┼────────┼──────────┼──────────────────┤\n",
      "│ 13 │ GA      │ 16          │ AdaBoostRegressor │ 1.589  │ 1.213    │ (1.435, 1.752)   │\n",
      "╘════╧═════════╧═════════════╧═══════════════════╧════════╧══════════╧══════════════════╛\n"
     ]
    }
   ],
   "source": [
    "print(tabulate(delegates_preds[delegates_preds['Model'] == 'AdaBoostRegressor'], headers='keys', tablefmt='fancy_grid', numalign='left'))"
   ]
  },
  {
   "cell_type": "code",
   "execution_count": 23,
   "metadata": {},
   "outputs": [
    {
     "name": "stdout",
     "output_type": "stream",
     "text": [
      "╒════╤═════════╤═════════════╤═══════════════════════════╤════════╤══════════╤══════════════════╕\n",
      "│    │ State   │ Delegates   │ Model                     │ Mean   │ Median   │ CI               │\n",
      "╞════╪═════════╪═════════════╪═══════════════════════════╪════════╪══════════╪══════════════════╡\n",
      "│ 14 │ AZ      │ 11          │ GradientBoostingRegressor │ 0.796  │ 0.672    │ (0.566, 1.03)    │\n",
      "├────┼─────────┼─────────────┼───────────────────────────┼────────┼──────────┼──────────────────┤\n",
      "│ 15 │ NV      │ 6           │ GradientBoostingRegressor │ -1.946 │ -2.133   │ (-2.063, -1.832) │\n",
      "├────┼─────────┼─────────────┼───────────────────────────┼────────┼──────────┼──────────────────┤\n",
      "│ 16 │ WI      │ 10          │ GradientBoostingRegressor │ 0.084  │ 0.004    │ (0.027, 0.144)   │\n",
      "├────┼─────────┼─────────────┼───────────────────────────┼────────┼──────────┼──────────────────┤\n",
      "│ 17 │ MI      │ 15          │ GradientBoostingRegressor │ -0.469 │ -0.422   │ (-0.534, -0.404) │\n",
      "├────┼─────────┼─────────────┼───────────────────────────┼────────┼──────────┼──────────────────┤\n",
      "│ 18 │ PA      │ 19          │ GradientBoostingRegressor │ 0.081  │ 0.11     │ (-0.02, 0.175)   │\n",
      "├────┼─────────┼─────────────┼───────────────────────────┼────────┼──────────┼──────────────────┤\n",
      "│ 19 │ NC      │ 16          │ GradientBoostingRegressor │ 0.885  │ 0.818    │ (0.802, 0.968)   │\n",
      "├────┼─────────┼─────────────┼───────────────────────────┼────────┼──────────┼──────────────────┤\n",
      "│ 20 │ GA      │ 16          │ GradientBoostingRegressor │ 1.273  │ 1.075    │ (1.039, 1.516)   │\n",
      "╘════╧═════════╧═════════════╧═══════════════════════════╧════════╧══════════╧══════════════════╛\n"
     ]
    }
   ],
   "source": [
    "print(tabulate(delegates_preds[delegates_preds['Model'] == 'GradientBoostingRegressor'], headers='keys', tablefmt='fancy_grid', numalign='left'))"
   ]
  },
  {
   "cell_type": "code",
   "execution_count": 24,
   "metadata": {},
   "outputs": [
    {
     "name": "stdout",
     "output_type": "stream",
     "text": [
      "╒════╤═══════════════════════════╤═══════╤═══════╕\n",
      "│    │ Model                     │ REP   │ DEM   │\n",
      "╞════╪═══════════════════════════╪═══════╪═══════╡\n",
      "│ 0  │ XGBRegressor              │ 291   │ 247   │\n",
      "├────┼───────────────────────────┼───────┼───────┤\n",
      "│ 1  │ AdaBoostRegressor         │ 306   │ 232   │\n",
      "├────┼───────────────────────────┼───────┼───────┤\n",
      "│ 2  │ GradientBoostingRegressor │ 291   │ 247   │\n",
      "╘════╧═══════════════════════════╧═══════╧═══════╛\n"
     ]
    }
   ],
   "source": [
    "res = pd.DataFrame(columns=['Model', 'REP', 'DEM'])\n",
    "\n",
    "for model in [xgb_model, ada_model, gb_model]:\n",
    "     REP_delegates, DEM_delegates = predict_election(delegates_preds, model)\n",
    "     res = pd.concat([res, pd.DataFrame([[model.__class__.__name__, REP_delegates, DEM_delegates]], columns=['Model', 'REP', 'DEM'])], ignore_index=True)\n",
    "\n",
    "res.to_csv('election_preds.csv', index=False, mode='a', header=False)\n",
    "\n",
    "print(tabulate(res, headers='keys', tablefmt='fancy_grid', numalign='left'))"
   ]
  },
  {
   "cell_type": "code",
   "execution_count": 25,
   "metadata": {},
   "outputs": [
    {
     "name": "stdout",
     "output_type": "stream",
     "text": [
      "Saved XGBRegressor plot to ./images/png/XGBRegressor.png\n",
      "Saved AdaBoostRegressor plot to ./images/png/AdaBoostRegressor.png\n",
      "Saved GradientBoostingRegressor plot to ./images/png/GradientBoostingRegressor.png\n"
     ]
    }
   ],
   "source": [
    "for model in [xgb_model, ada_model, gb_model]:\n",
    "     fig = plot_election_results(delegates_preds, model)\n",
    "\n",
    "     os.makedirs('./images/png', exist_ok=True)\n",
    "     fig.write_image(f'./images/png/{model.__class__.__name__}.png', width=1200, height=800)\n",
    "\n",
    "     print(f\"Saved {model.__class__.__name__} plot to ./images/png/{model.__class__.__name__}.png\")"
   ]
  },
  {
   "cell_type": "markdown",
   "metadata": {},
   "source": [
    "# Binary models"
   ]
  },
  {
   "cell_type": "code",
   "execution_count": null,
   "metadata": {},
   "outputs": [
    {
     "name": "stdout",
     "output_type": "stream",
     "text": [
      "╒═════════════════════╤═══════╤════════╤════════╕\n",
      "│ Model               │ MAE   │ MSE    │ RMSE   │\n",
      "╞═════════════════════╪═══════╪════════╪════════╡\n",
      "│ GaussianNB          │ 2.812 │ 11.062 │ 3.326  │\n",
      "├─────────────────────┼───────┼────────┼────────┤\n",
      "│ KNeighborsRegressor │ 1.55  │ 3.495  │ 1.869  │\n",
      "├─────────────────────┼───────┼────────┼────────┤\n",
      "│ SVR                 │ 1.846 │ 4.624  │ 2.15   │\n",
      "╘═════════════════════╧═══════╧════════╧════════╛\n"
     ]
    }
   ],
   "source": [
    "from sklearn.naive_bayes import GaussianNB\n",
    "from sklearn.neighbors import KNeighborsRegressor\n",
    "from sklearn.svm import SVR\n",
    "\n",
    "nb_model = GaussianNB()\n",
    "knn_model = KNeighborsRegressor()\n",
    "svm_model = SVR()\n",
    "\n",
    "res_table = []\n",
    "\n",
    "y_train_binned = y_train.copy().astype(int)\n",
    "y_val_binned = y_val.copy().astype(int)\n",
    "\n",
    "for model in [nb_model, knn_model, svm_model]:\n",
    "     model_name, mae, mse, rmse = train_and_evaluate_model(model, X_train, y_train_binned, X_val, y_val_binned)\n",
    "     res_table.append([model_name, mae, mse, rmse])\n",
    "\n",
    "pd.DataFrame(res_table, columns=['Model', 'MAE', 'MSE', 'RMSE']).to_csv('error_rates.csv', index=False, mode='a', header=False)\n",
    "\n",
    "print(tabulate(res_table, headers=['Model', 'MAE', 'MSE', 'RMSE'], tablefmt='fancy_grid', numalign='left'))"
   ]
  },
  {
   "cell_type": "code",
   "execution_count": 28,
   "metadata": {},
   "outputs": [
    {
     "name": "stdout",
     "output_type": "stream",
     "text": [
      "╒════╤═════════╤═════════════╤════════════╤════════╤══════════╤════════════════╕\n",
      "│    │ State   │ Delegates   │ Model      │ Mean   │ Median   │ CI             │\n",
      "╞════╪═════════╪═════════════╪════════════╪════════╪══════════╪════════════════╡\n",
      "│ 0  │ AZ      │ 11          │ GaussianNB │ 3.216  │ 3        │ (2.74, 3.71)   │\n",
      "├────┼─────────┼─────────────┼────────────┼────────┼──────────┼────────────────┤\n",
      "│ 1  │ NV      │ 6           │ GaussianNB │ 1.632  │ 2        │ (1.31, 1.96)   │\n",
      "├────┼─────────┼─────────────┼────────────┼────────┼──────────┼────────────────┤\n",
      "│ 2  │ WI      │ 10          │ GaussianNB │ 3.677  │ 4        │ (3.24, 4.12)   │\n",
      "├────┼─────────┼─────────────┼────────────┼────────┼──────────┼────────────────┤\n",
      "│ 3  │ MI      │ 15          │ GaussianNB │ -2.134 │ -2       │ (-2.45, -1.84) │\n",
      "├────┼─────────┼─────────────┼────────────┼────────┼──────────┼────────────────┤\n",
      "│ 4  │ PA      │ 19          │ GaussianNB │ 2.76   │ 3        │ (2.35, 3.19)   │\n",
      "├────┼─────────┼─────────────┼────────────┼────────┼──────────┼────────────────┤\n",
      "│ 5  │ NC      │ 16          │ GaussianNB │ 3.542  │ 4        │ (3.33, 3.74)   │\n",
      "├────┼─────────┼─────────────┼────────────┼────────┼──────────┼────────────────┤\n",
      "│ 6  │ GA      │ 16          │ GaussianNB │ 2.273  │ 2        │ (1.94, 2.6)    │\n",
      "╘════╧═════════╧═════════════╧════════════╧════════╧══════════╧════════════════╛\n"
     ]
    }
   ],
   "source": [
    "delegates_preds = pd.DataFrame(columns=['State', 'Model', 'Mean', 'Median', 'CI'])\n",
    "\n",
    "for model in [nb_model, knn_model, svm_model]:\n",
    "     results = predict_swing_states(model)\n",
    "     delegates_preds = pd.concat([delegates_preds, results], ignore_index=True)\n",
    "\n",
    "delegates_preds['Delegates'] = delegates_preds['State'].map(delegates_num_map)\n",
    "\n",
    "delegates_preds = delegates_preds[['State', 'Delegates', 'Model', 'Mean', 'Median', 'CI']]\n",
    "\n",
    "delegates_preds.to_csv('delegates_preds.csv', index=False, mode='a', header=False)\n",
    "\n",
    "print(tabulate(delegates_preds[delegates_preds['Model'] == 'GaussianNB'], headers='keys', tablefmt='fancy_grid', numalign='left'))"
   ]
  },
  {
   "cell_type": "code",
   "execution_count": 29,
   "metadata": {},
   "outputs": [
    {
     "name": "stdout",
     "output_type": "stream",
     "text": [
      "╒════╤═════════╤═════════════╤═════════════════════╤════════╤══════════╤════════════════╕\n",
      "│    │ State   │ Delegates   │ Model               │ Mean   │ Median   │ CI             │\n",
      "╞════╪═════════╪═════════════╪═════════════════════╪════════╪══════════╪════════════════╡\n",
      "│ 7  │ AZ      │ 11          │ KNeighborsRegressor │ 1.706  │ 1.3      │ (1.4, 2.014)   │\n",
      "├────┼─────────┼─────────────┼─────────────────────┼────────┼──────────┼────────────────┤\n",
      "│ 8  │ NV      │ 6           │ KNeighborsRegressor │ 0.597  │ 0        │ (0.3, 0.924)   │\n",
      "├────┼─────────┼─────────────┼─────────────────────┼────────┼──────────┼────────────────┤\n",
      "│ 9  │ WI      │ 10          │ KNeighborsRegressor │ 0.293  │ 0.4      │ (0.128, 0.454) │\n",
      "├────┼─────────┼─────────────┼─────────────────────┼────────┼──────────┼────────────────┤\n",
      "│ 10 │ MI      │ 15          │ KNeighborsRegressor │ 0.345  │ 0.3      │ (0.006, 0.66)  │\n",
      "├────┼─────────┼─────────────┼─────────────────────┼────────┼──────────┼────────────────┤\n",
      "│ 11 │ PA      │ 19          │ KNeighborsRegressor │ 0.2    │ -0.2     │ (0.042, 0.364) │\n",
      "├────┼─────────┼─────────────┼─────────────────────┼────────┼──────────┼────────────────┤\n",
      "│ 12 │ NC      │ 16          │ KNeighborsRegressor │ 1.885  │ 2        │ (1.648, 2.112) │\n",
      "├────┼─────────┼─────────────┼─────────────────────┼────────┼──────────┼────────────────┤\n",
      "│ 13 │ GA      │ 16          │ KNeighborsRegressor │ 1.438  │ 0.8      │ (1.214, 1.672) │\n",
      "╘════╧═════════╧═════════════╧═════════════════════╧════════╧══════════╧════════════════╛\n"
     ]
    }
   ],
   "source": [
    "print(tabulate(delegates_preds[delegates_preds['Model'] == 'KNeighborsRegressor'], headers='keys', tablefmt='fancy_grid', numalign='left'))"
   ]
  },
  {
   "cell_type": "code",
   "execution_count": 30,
   "metadata": {},
   "outputs": [
    {
     "name": "stdout",
     "output_type": "stream",
     "text": [
      "╒════╤═════════╤═════════════╤═════════╤════════╤══════════╤═════════════════╕\n",
      "│    │ State   │ Delegates   │ Model   │ Mean   │ Median   │ CI              │\n",
      "╞════╪═════════╪═════════════╪═════════╪════════╪══════════╪═════════════════╡\n",
      "│ 14 │ AZ      │ 11          │ SVR     │ 1.776  │ 0.728    │ (1.436, 2.145)  │\n",
      "├────┼─────────┼─────────────┼─────────┼────────┼──────────┼─────────────────┤\n",
      "│ 15 │ NV      │ 6           │ SVR     │ 0.407  │ -0.639   │ (0.07, 0.764)   │\n",
      "├────┼─────────┼─────────────┼─────────┼────────┼──────────┼─────────────────┤\n",
      "│ 16 │ WI      │ 10          │ SVR     │ 0.492  │ 0.515    │ (0.33, 0.647)   │\n",
      "├────┼─────────┼─────────────┼─────────┼────────┼──────────┼─────────────────┤\n",
      "│ 17 │ MI      │ 15          │ SVR     │ 0.036  │ -0.118   │ (-0.175, 0.243) │\n",
      "├────┼─────────┼─────────────┼─────────┼────────┼──────────┼─────────────────┤\n",
      "│ 18 │ PA      │ 19          │ SVR     │ 0.363  │ -0.034   │ (0.183, 0.55)   │\n",
      "├────┼─────────┼─────────────┼─────────┼────────┼──────────┼─────────────────┤\n",
      "│ 19 │ NC      │ 16          │ SVR     │ 1.678  │ 1.496    │ (1.485, 1.867)  │\n",
      "├────┼─────────┼─────────────┼─────────┼────────┼──────────┼─────────────────┤\n",
      "│ 20 │ GA      │ 16          │ SVR     │ 1.381  │ 0.777    │ (1.127, 1.645)  │\n",
      "╘════╧═════════╧═════════════╧═════════╧════════╧══════════╧═════════════════╛\n"
     ]
    }
   ],
   "source": [
    "print(tabulate(delegates_preds[delegates_preds['Model'] == 'SVR'], headers='keys', tablefmt='fancy_grid', numalign='left'))"
   ]
  },
  {
   "cell_type": "code",
   "execution_count": 31,
   "metadata": {},
   "outputs": [
    {
     "name": "stdout",
     "output_type": "stream",
     "text": [
      "╒════╤═════════════════════╤═══════╤═══════╕\n",
      "│    │ Model               │ REP   │ DEM   │\n",
      "╞════╪═════════════════════╪═══════╪═══════╡\n",
      "│ 0  │ GaussianNB          │ 297   │ 241   │\n",
      "├────┼─────────────────────┼───────┼───────┤\n",
      "│ 0  │ KNeighborsRegressor │ 312   │ 226   │\n",
      "├────┼─────────────────────┼───────┼───────┤\n",
      "│ 0  │ SVR                 │ 312   │ 226   │\n",
      "╘════╧═════════════════════╧═══════╧═══════╛\n"
     ]
    }
   ],
   "source": [
    "res = pd.DataFrame(columns=['Model', 'REP', 'DEM'])\n",
    "\n",
    "for model in [nb_model, knn_model, svm_model]:\n",
    "     REP_delegates, DEM_delegates = predict_election(delegates_preds, model)\n",
    "     res = pd.concat([res, pd.DataFrame([[model.__class__.__name__, REP_delegates, DEM_delegates]], columns=['Model', 'REP', 'DEM'])])\n",
    "\n",
    "res.to_csv('election_preds.csv', index=False, mode='a', header=False)\n",
    "\n",
    "print(tabulate(res, headers='keys', tablefmt='fancy_grid', numalign='left'))"
   ]
  },
  {
   "cell_type": "markdown",
   "metadata": {},
   "source": [
    "# Voting Regressor"
   ]
  },
  {
   "cell_type": "code",
   "execution_count": null,
   "metadata": {},
   "outputs": [
    {
     "name": "stdout",
     "output_type": "stream",
     "text": [
      "╒═════════════════╤═══════╤═══════╤════════╕\n",
      "│ Model           │ MAE   │ MSE   │ RMSE   │\n",
      "╞═════════════════╪═══════╪═══════╪════════╡\n",
      "│ VotingRegressor │ 1.203 │ 2.226 │ 1.492  │\n",
      "╘═════════════════╧═══════╧═══════╧════════╛\n"
     ]
    }
   ],
   "source": [
    "from sklearn.ensemble import VotingRegressor\n",
    "\n",
    "voting_model = VotingRegressor(estimators=[\n",
    "     ('lr', lr_model),\n",
    "     ('lasso', lasso_model),\n",
    "     ('ridge', ridge_model),\n",
    "     ('dt', dt_model),\n",
    "     ('et', et_model),\n",
    "     ('rf', rf_model),\n",
    "     ('mlp_model', mlp_model),\n",
    "     ('xgb', xgb_model),\n",
    "     ('ada', ada_model),\n",
    "     ('gb', gb_model),\n",
    "     ('mlp', mlp_model),\n",
    "     ('knn', knn_model),\n",
    "     ('svm', svm_model)\n",
    "], weights = [1.8, 0.3, 1.8, 2, 1.5, 2, 5, 1.5, 0.5, 1.3, 5, 0.5, 0.5])\n",
    "\n",
    "model_name, mae, mse, rmse = train_and_evaluate_model(voting_model, X_train, y_train, X_val, y_val)\n",
    "\n",
    "pd.DataFrame([[model_name, mae, mse, rmse]], columns=['Model', 'MAE', 'MSE', 'RMSE']).to_csv('error_rates.csv', index=False, mode='a', header=False)\n",
    "\n",
    "print(tabulate([[model_name, mae, mse, rmse]], headers=['Model', 'MAE', 'MSE', 'RMSE'], tablefmt='fancy_grid', numalign='left'))"
   ]
  },
  {
   "cell_type": "code",
   "execution_count": 33,
   "metadata": {},
   "outputs": [
    {
     "name": "stdout",
     "output_type": "stream",
     "text": [
      "╒════╤═════════╤═════════════╤═════════════════╤════════╤══════════╤══════════════════╕\n",
      "│    │ State   │ Delegates   │ Model           │ Mean   │ Median   │ CI               │\n",
      "╞════╪═════════╪═════════════╪═════════════════╪════════╪══════════╪══════════════════╡\n",
      "│ 0  │ AZ      │ 11          │ VotingRegressor │ 1.008  │ 0.499    │ (0.777, 1.242)   │\n",
      "├────┼─────────┼─────────────┼─────────────────┼────────┼──────────┼──────────────────┤\n",
      "│ 1  │ NV      │ 6           │ VotingRegressor │ -2.123 │ -2.287   │ (-2.303, -1.94)  │\n",
      "├────┼─────────┼─────────────┼─────────────────┼────────┼──────────┼──────────────────┤\n",
      "│ 2  │ WI      │ 10          │ VotingRegressor │ 0.776  │ 0.794    │ (0.645, 0.904)   │\n",
      "├────┼─────────┼─────────────┼─────────────────┼────────┼──────────┼──────────────────┤\n",
      "│ 3  │ MI      │ 15          │ VotingRegressor │ -0.675 │ -0.786   │ (-0.828, -0.519) │\n",
      "├────┼─────────┼─────────────┼─────────────────┼────────┼──────────┼──────────────────┤\n",
      "│ 4  │ PA      │ 19          │ VotingRegressor │ 0.02   │ -0.205   │ (-0.097, 0.138)  │\n",
      "├────┼─────────┼─────────────┼─────────────────┼────────┼──────────┼──────────────────┤\n",
      "│ 5  │ NC      │ 16          │ VotingRegressor │ 1.61   │ 1.694    │ (1.465, 1.758)   │\n",
      "├────┼─────────┼─────────────┼─────────────────┼────────┼──────────┼──────────────────┤\n",
      "│ 6  │ GA      │ 16          │ VotingRegressor │ 1.781  │ 1.086    │ (1.539, 2.021)   │\n",
      "╘════╧═════════╧═════════════╧═════════════════╧════════╧══════════╧══════════════════╛\n"
     ]
    }
   ],
   "source": [
    "delegates_preds = pd.DataFrame(columns=['State', 'Model', 'Mean', 'Median', 'CI'])\n",
    "\n",
    "results = predict_swing_states(voting_model)\n",
    "\n",
    "delegates_preds = pd.concat([delegates_preds, results], ignore_index=True)\n",
    "\n",
    "delegates_preds['Delegates'] = delegates_preds['State'].map(delegates_num_map)\n",
    "\n",
    "delegates_preds = delegates_preds[['State', 'Delegates', 'Model', 'Mean', 'Median', 'CI']]\n",
    "\n",
    "delegates_preds.to_csv('delegates_preds.csv', index=False, mode='a', header=False)\n",
    "\n",
    "print(tabulate(delegates_preds[delegates_preds['Model'] == 'VotingRegressor'], headers='keys', tablefmt='fancy_grid', numalign='left'))"
   ]
  },
  {
   "cell_type": "code",
   "execution_count": 34,
   "metadata": {},
   "outputs": [
    {
     "name": "stdout",
     "output_type": "stream",
     "text": [
      "╒════╤═════════════════╤═══════╤═══════╕\n",
      "│    │ Model           │ REP   │ DEM   │\n",
      "╞════╪═════════════════╪═══════╪═══════╡\n",
      "│ 0  │ VotingRegressor │ 291   │ 247   │\n",
      "╘════╧═════════════════╧═══════╧═══════╛\n"
     ]
    }
   ],
   "source": [
    "res = pd.DataFrame(columns=['Model', 'REP', 'DEM'])\n",
    "\n",
    "REP_delegates, DEM_delegates = predict_election(delegates_preds, voting_model)\n",
    "\n",
    "res = pd.concat([res, pd.DataFrame([['VotingRegressor', REP_delegates, DEM_delegates]], columns=['Model', 'REP', 'DEM'])])\n",
    "\n",
    "res.to_csv('election_preds.csv', index=False, mode='a', header=False)\n",
    "\n",
    "print(tabulate(res, headers='keys', tablefmt='fancy_grid', numalign='left'))"
   ]
  },
  {
   "cell_type": "code",
   "execution_count": 36,
   "metadata": {},
   "outputs": [],
   "source": [
    "fig = plot_election_results(delegates_preds, voting_model)\n",
    "\n",
    "os.makedirs('./images/png', exist_ok=True)\n",
    "\n",
    "fig.write_image(f'./images/png/VotingRegressor.png', width=1200, height=800)"
   ]
  },
  {
   "cell_type": "markdown",
   "metadata": {},
   "source": [
    "<div style=\"display: flex; justify-content: space-around;\">\n",
    "    <img src=\"./images/png/VotingRegressor.png\" alt=\"Image 1\" style=\"width: 45%;\"/>\n",
    "    <img src=\"./images/png/VotingRegressor.png\" alt=\"Image 2\" style=\"width: 45%;\"/>\n",
    "</div>\n"
   ]
  }
 ],
 "metadata": {
  "kernelspec": {
   "display_name": ".venv",
   "language": "python",
   "name": "python3"
  },
  "language_info": {
   "codemirror_mode": {
    "name": "ipython",
    "version": 3
   },
   "file_extension": ".py",
   "mimetype": "text/x-python",
   "name": "python",
   "nbconvert_exporter": "python",
   "pygments_lexer": "ipython3",
   "version": "3.12.3"
  }
 },
 "nbformat": 4,
 "nbformat_minor": 2
}
